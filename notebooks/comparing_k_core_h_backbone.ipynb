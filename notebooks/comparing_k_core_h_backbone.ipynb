{
 "cells": [
  {
   "cell_type": "code",
   "id": "initial_id",
   "metadata": {
    "collapsed": true,
    "ExecuteTime": {
     "end_time": "2025-05-10T18:32:08.683286Z",
     "start_time": "2025-05-10T18:32:08.664567Z"
    }
   },
   "source": [
    "# Comparing maximum k-core, h-backbone and disparity filter\n",
    "from ip_analysis_tool.h_backbone import h_backbone\n",
    "from ip_analysis_tool.k_core import get_max_k_core, k_core_decomposition\n",
    "from ip_analysis_tool.disparity_filter import disparity_filter\n",
    "from ip_analysis_tool.util.graph_getter import get_graph_by_date\n",
    "from ip_analysis_tool.compare import compare_graphs_jaccard\n",
    "from ip_analysis_tool.enums import TimeInterval\n",
    "from ip_analysis_tool.util.date_util import get_date_object\n",
    "\n",
    "base_graph = get_graph_by_date(date = get_date_object(\"2013-08-05\"), time_interval = TimeInterval.WEEK)\n",
    "\n"
   ],
   "outputs": [],
   "execution_count": 9
  },
  {
   "metadata": {
    "ExecuteTime": {
     "end_time": "2025-05-10T18:32:09.447320Z",
     "start_time": "2025-05-10T18:32:08.740485Z"
    }
   },
   "cell_type": "code",
   "source": "k_core_graph = get_max_k_core(k_core_decomposition(base_graph))\n",
   "id": "70e329c5f57b683d",
   "outputs": [],
   "execution_count": 10
  },
  {
   "metadata": {
    "ExecuteTime": {
     "end_time": "2025-05-10T18:32:27.632963Z",
     "start_time": "2025-05-10T18:32:11.497352Z"
    }
   },
   "cell_type": "code",
   "source": "h_backbone_graph = h_backbone(base_graph)\n",
   "id": "20aeef3e7e485987",
   "outputs": [],
   "execution_count": 11
  },
  {
   "metadata": {
    "ExecuteTime": {
     "end_time": "2025-05-10T18:32:39.173021Z",
     "start_time": "2025-05-10T18:32:27.648057Z"
    }
   },
   "cell_type": "code",
   "source": "disparity_graph = disparity_filter(base_graph)\n",
   "id": "344809dfdd3a3d4",
   "outputs": [],
   "execution_count": 12
  },
  {
   "metadata": {
    "ExecuteTime": {
     "end_time": "2025-05-10T18:32:39.194328Z",
     "start_time": "2025-05-10T18:32:39.187577Z"
    }
   },
   "cell_type": "code",
   "source": [
    "# Compare the graphs\n",
    "k_core_vs_h_backbone = compare_graphs_jaccard(k_core_graph, h_backbone_graph)\n",
    "print(k_core_vs_h_backbone)"
   ],
   "id": "7b924668c95af75",
   "outputs": [
    {
     "name": "stdout",
     "output_type": "stream",
     "text": [
      "{'vertices_in_graph_1': 29, 'edges_in_graph_1': 150, 'vertices_in_graph_2': 122, 'edges_in_graph_2': 135, 'intersection_of_edges': 2, 'union_of_edges': 283, 'intersection_of_vertices': 3, 'union_of_vertices': 148, 'similarity': 0.007067137809187279}\n"
     ]
    }
   ],
   "execution_count": 13
  },
  {
   "metadata": {
    "ExecuteTime": {
     "end_time": "2025-05-10T18:32:39.310912Z",
     "start_time": "2025-05-10T18:32:39.265691Z"
    }
   },
   "cell_type": "code",
   "source": [
    "# Compare the graphs\n",
    "k_core_vs_disparity = compare_graphs_jaccard(k_core_graph, disparity_graph)\n",
    "print(k_core_vs_disparity)"
   ],
   "id": "d804f8fb8c2c8f1",
   "outputs": [
    {
     "name": "stdout",
     "output_type": "stream",
     "text": [
      "{'vertices_in_graph_1': 29, 'edges_in_graph_1': 150, 'vertices_in_graph_2': 2034, 'edges_in_graph_2': 2623, 'intersection_of_edges': 71, 'union_of_edges': 2697, 'intersection_of_vertices': 28, 'union_of_vertices': 2035, 'similarity': 0.02632554690396737}\n"
     ]
    }
   ],
   "execution_count": 14
  }
 ],
 "metadata": {
  "kernelspec": {
   "display_name": "Python 3",
   "language": "python",
   "name": "python3"
  },
  "language_info": {
   "codemirror_mode": {
    "name": "ipython",
    "version": 2
   },
   "file_extension": ".py",
   "mimetype": "text/x-python",
   "name": "python",
   "nbconvert_exporter": "python",
   "pygments_lexer": "ipython2",
   "version": "2.7.6"
  }
 },
 "nbformat": 4,
 "nbformat_minor": 5
}
