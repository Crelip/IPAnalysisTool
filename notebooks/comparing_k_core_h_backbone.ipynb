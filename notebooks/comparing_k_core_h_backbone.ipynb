{
 "cells": [
  {
   "cell_type": "code",
   "id": "initial_id",
   "metadata": {
    "collapsed": true,
    "ExecuteTime": {
     "end_time": "2025-03-25T19:18:22.053141Z",
     "start_time": "2025-03-25T19:17:44.739710Z"
    }
   },
   "source": [
    "from ip_analysis_tool.h_backbone import h_backbone\n",
    "from ip_analysis_tool.k_core import get_max_k_core, k_core_decomposition\n",
    "from ip_analysis_tool.util.graph_getter import get_graph_by_date\n",
    "from ip_analysis_tool.util.date_util import get_cache_date_range, iterate_weekly\n",
    "from ip_analysis_tool.compare import compare_graphs_jaccard\n",
    "\n",
    "date_range = get_cache_date_range()\n",
    "for week in iterate_weekly(date_range[0], date_range[1]):\n",
    "    date = week[0]\n",
    "    print(f\"Date: {date}\")\n",
    "    g = get_graph_by_date(date)\n",
    "    h_backbone_data = h_backbone(g, output=\"graph\")\n",
    "    k_core_data = get_max_k_core(k_core_decomposition(g))\n",
    "    print(compare_graphs_jaccard(h_backbone_data, k_core_data))"
   ],
   "outputs": [
    {
     "name": "stdout",
     "output_type": "stream",
     "text": [
      "Date: 2009-06-15\n",
      "{'vertices_in_graph_1': 95, 'edges_in_graph_1': 97, 'vertices_in_graph_2': 27, 'edges_in_graph_2': 152, 'intersection_of_edges': 0, 'union_of_edges': 249, 'intersection_of_vertices': 4, 'union_of_vertices': 118, 'similarity': 0.0}\n",
      "Date: 2009-06-22\n",
      "{'vertices_in_graph_1': 74, 'edges_in_graph_1': 91, 'vertices_in_graph_2': 19, 'edges_in_graph_2': 88, 'intersection_of_edges': 0, 'union_of_edges': 179, 'intersection_of_vertices': 0, 'union_of_vertices': 93, 'similarity': 0.0}\n",
      "Date: 2009-06-29\n",
      "{'vertices_in_graph_1': 96, 'edges_in_graph_1': 120, 'vertices_in_graph_2': 20, 'edges_in_graph_2': 96, 'intersection_of_edges': 0, 'union_of_edges': 216, 'intersection_of_vertices': 0, 'union_of_vertices': 116, 'similarity': 0.0}\n",
      "Date: 2009-07-06\n",
      "{'vertices_in_graph_1': 91, 'edges_in_graph_1': 120, 'vertices_in_graph_2': 19, 'edges_in_graph_2': 88, 'intersection_of_edges': 0, 'union_of_edges': 208, 'intersection_of_vertices': 0, 'union_of_vertices': 110, 'similarity': 0.0}\n",
      "Date: 2009-07-13\n",
      "{'vertices_in_graph_1': 88, 'edges_in_graph_1': 114, 'vertices_in_graph_2': 17, 'edges_in_graph_2': 72, 'intersection_of_edges': 0, 'union_of_edges': 186, 'intersection_of_vertices': 0, 'union_of_vertices': 105, 'similarity': 0.0}\n",
      "Date: 2009-07-20\n",
      "{'vertices_in_graph_1': 90, 'edges_in_graph_1': 117, 'vertices_in_graph_2': 36, 'edges_in_graph_2': 206, 'intersection_of_edges': 0, 'union_of_edges': 301, 'intersection_of_vertices': 0, 'union_of_vertices': 126, 'similarity': 0.0}\n",
      "Date: 2009-07-27\n",
      "{'vertices_in_graph_1': 86, 'edges_in_graph_1': 117, 'vertices_in_graph_2': 21, 'edges_in_graph_2': 104, 'intersection_of_edges': 0, 'union_of_edges': 221, 'intersection_of_vertices': 0, 'union_of_vertices': 107, 'similarity': 0.0}\n",
      "Date: 2009-08-03\n",
      "{'vertices_in_graph_1': 90, 'edges_in_graph_1': 116, 'vertices_in_graph_2': 35, 'edges_in_graph_2': 183, 'intersection_of_edges': 0, 'union_of_edges': 293, 'intersection_of_vertices': 1, 'union_of_vertices': 124, 'similarity': 0.0}\n",
      "Date: 2009-08-10\n",
      "{'vertices_in_graph_1': 99, 'edges_in_graph_1': 105, 'vertices_in_graph_2': 40, 'edges_in_graph_2': 219, 'intersection_of_edges': 0, 'union_of_edges': 318, 'intersection_of_vertices': 2, 'union_of_vertices': 137, 'similarity': 0.0}\n",
      "Date: 2009-08-17\n",
      "{'vertices_in_graph_1': 92, 'edges_in_graph_1': 93, 'vertices_in_graph_2': 41, 'edges_in_graph_2': 233, 'intersection_of_edges': 0, 'union_of_edges': 315, 'intersection_of_vertices': 4, 'union_of_vertices': 129, 'similarity': 0.0}\n",
      "Date: 2009-08-24\n",
      "{'vertices_in_graph_1': 88, 'edges_in_graph_1': 90, 'vertices_in_graph_2': 17, 'edges_in_graph_2': 95, 'intersection_of_edges': 0, 'union_of_edges': 182, 'intersection_of_vertices': 0, 'union_of_vertices': 105, 'similarity': 0.0}\n",
      "Date: 2009-08-31\n",
      "{'vertices_in_graph_1': 85, 'edges_in_graph_1': 87, 'vertices_in_graph_2': 17, 'edges_in_graph_2': 72, 'intersection_of_edges': 0, 'union_of_edges': 159, 'intersection_of_vertices': 2, 'union_of_vertices': 100, 'similarity': 0.0}\n",
      "Date: 2009-09-07\n",
      "{'vertices_in_graph_1': 86, 'edges_in_graph_1': 90, 'vertices_in_graph_2': 19, 'edges_in_graph_2': 88, 'intersection_of_edges': 0, 'union_of_edges': 178, 'intersection_of_vertices': 4, 'union_of_vertices': 101, 'similarity': 0.0}\n",
      "Date: 2009-09-14\n",
      "{'vertices_in_graph_1': 94, 'edges_in_graph_1': 90, 'vertices_in_graph_2': 24, 'edges_in_graph_2': 128, 'intersection_of_edges': 0, 'union_of_edges': 218, 'intersection_of_vertices': 3, 'union_of_vertices': 115, 'similarity': 0.0}\n",
      "Date: 2009-09-21\n",
      "{'vertices_in_graph_1': 87, 'edges_in_graph_1': 85, 'vertices_in_graph_2': 20, 'edges_in_graph_2': 96, 'intersection_of_edges': 0, 'union_of_edges': 181, 'intersection_of_vertices': 4, 'union_of_vertices': 103, 'similarity': 0.0}\n",
      "Date: 2009-09-28\n"
     ]
    },
    {
     "ename": "KeyboardInterrupt",
     "evalue": "",
     "output_type": "error",
     "traceback": [
      "\u001B[31m---------------------------------------------------------------------------\u001B[39m",
      "\u001B[31mKeyboardInterrupt\u001B[39m                         Traceback (most recent call last)",
      "\u001B[36mCell\u001B[39m\u001B[36m \u001B[39m\u001B[32mIn[1]\u001B[39m\u001B[32m, line 12\u001B[39m\n\u001B[32m     10\u001B[39m \u001B[38;5;28mprint\u001B[39m(\u001B[33mf\u001B[39m\u001B[33m\"\u001B[39m\u001B[33mDate: \u001B[39m\u001B[38;5;132;01m{\u001B[39;00mdate\u001B[38;5;132;01m}\u001B[39;00m\u001B[33m\"\u001B[39m)\n\u001B[32m     11\u001B[39m g = get_graph_by_date(date)\n\u001B[32m---> \u001B[39m\u001B[32m12\u001B[39m h_backbone_data = \u001B[43mh_backbone\u001B[49m\u001B[43m(\u001B[49m\u001B[43mg\u001B[49m\u001B[43m,\u001B[49m\u001B[43m \u001B[49m\u001B[43moutput\u001B[49m\u001B[43m=\u001B[49m\u001B[33;43m\"\u001B[39;49m\u001B[33;43mgraph\u001B[39;49m\u001B[33;43m\"\u001B[39;49m\u001B[43m)\u001B[49m\n\u001B[32m     13\u001B[39m k_core_data = get_max_k_core(k_core_decomposition(g))\n\u001B[32m     14\u001B[39m \u001B[38;5;28mprint\u001B[39m(compare_graphs_jaccard(h_backbone_data, k_core_data))\n",
      "\u001B[36mFile \u001B[39m\u001B[32m~/Skola/BP/repo/ip_analysis_tool/h_backbone.py:42\u001B[39m, in \u001B[36mh_backbone\u001B[39m\u001B[34m(g, modifier, visualize, output, verbose)\u001B[39m\n\u001B[32m     40\u001B[39m vfilt = g.new_vp(\u001B[33m\"\u001B[39m\u001B[33mbool\u001B[39m\u001B[33m\"\u001B[39m, vals=[\u001B[38;5;28;01mFalse\u001B[39;00m] * g.num_vertices())\n\u001B[32m     41\u001B[39m \u001B[38;5;28;01mfor\u001B[39;00m v \u001B[38;5;129;01min\u001B[39;00m g.vertices():\n\u001B[32m---> \u001B[39m\u001B[32m42\u001B[39m     vfilt[v] = \u001B[38;5;28many\u001B[39m(\u001B[43m[\u001B[49m\u001B[43mefilt\u001B[49m\u001B[43m[\u001B[49m\u001B[43me\u001B[49m\u001B[43m]\u001B[49m\u001B[43m \u001B[49m\u001B[38;5;28;43;01mfor\u001B[39;49;00m\u001B[43m \u001B[49m\u001B[43me\u001B[49m\u001B[43m \u001B[49m\u001B[38;5;129;43;01min\u001B[39;49;00m\u001B[43m \u001B[49m\u001B[43mv\u001B[49m\u001B[43m.\u001B[49m\u001B[43mall_edges\u001B[49m\u001B[43m(\u001B[49m\u001B[43m)\u001B[49m\u001B[43m]\u001B[49m)\n\u001B[32m     43\u001B[39m h_backbone = GraphView(g, vfilt=vfilt, efilt=efilt)\n\u001B[32m     45\u001B[39m \u001B[38;5;66;03m# Visualize the graph\u001B[39;00m\n",
      "\u001B[36mFile \u001B[39m\u001B[32m~/Skola/BP/repo/ip_analysis_tool/h_backbone.py:42\u001B[39m, in \u001B[36m<listcomp>\u001B[39m\u001B[34m(.0)\u001B[39m\n\u001B[32m     40\u001B[39m vfilt = g.new_vp(\u001B[33m\"\u001B[39m\u001B[33mbool\u001B[39m\u001B[33m\"\u001B[39m, vals=[\u001B[38;5;28;01mFalse\u001B[39;00m] * g.num_vertices())\n\u001B[32m     41\u001B[39m \u001B[38;5;28;01mfor\u001B[39;00m v \u001B[38;5;129;01min\u001B[39;00m g.vertices():\n\u001B[32m---> \u001B[39m\u001B[32m42\u001B[39m     vfilt[v] = \u001B[38;5;28many\u001B[39m(\u001B[43m[\u001B[49m\u001B[43mefilt\u001B[49m\u001B[43m[\u001B[49m\u001B[43me\u001B[49m\u001B[43m]\u001B[49m\u001B[43m \u001B[49m\u001B[38;5;28;43;01mfor\u001B[39;49;00m\u001B[43m \u001B[49m\u001B[43me\u001B[49m\u001B[43m \u001B[49m\u001B[38;5;129;43;01min\u001B[39;49;00m\u001B[43m \u001B[49m\u001B[43mv\u001B[49m\u001B[43m.\u001B[49m\u001B[43mall_edges\u001B[49m\u001B[43m(\u001B[49m\u001B[43m)\u001B[49m\u001B[43m]\u001B[49m)\n\u001B[32m     43\u001B[39m h_backbone = GraphView(g, vfilt=vfilt, efilt=efilt)\n\u001B[32m     45\u001B[39m \u001B[38;5;66;03m# Visualize the graph\u001B[39;00m\n",
      "\u001B[36mFile \u001B[39m\u001B[32m~/miniconda3/envs/ip_analysis_tool/lib/python3.11/site-packages/graph_tool/__init__.py:4046\u001B[39m, in \u001B[36m_all_edges\u001B[39m\u001B[34m(self)\u001B[39m\n\u001B[32m   4044\u001B[39m \u001B[38;5;28;01mfor\u001B[39;00m e \u001B[38;5;129;01min\u001B[39;00m \u001B[38;5;28mself\u001B[39m.out_edges():\n\u001B[32m   4045\u001B[39m     \u001B[38;5;28;01myield\u001B[39;00m e\n\u001B[32m-> \u001B[39m\u001B[32m4046\u001B[39m \u001B[38;5;28;01mfor\u001B[39;00m e \u001B[38;5;129;01min\u001B[39;00m \u001B[38;5;28;43mself\u001B[39;49m\u001B[43m.\u001B[49m\u001B[43min_edges\u001B[49m\u001B[43m(\u001B[49m\u001B[43m)\u001B[49m:\n\u001B[32m   4047\u001B[39m     \u001B[38;5;28;01myield\u001B[39;00m e\n",
      "\u001B[31mKeyboardInterrupt\u001B[39m: "
     ]
    }
   ],
   "execution_count": 1
  }
 ],
 "metadata": {
  "kernelspec": {
   "display_name": "Python 3",
   "language": "python",
   "name": "python3"
  },
  "language_info": {
   "codemirror_mode": {
    "name": "ipython",
    "version": 2
   },
   "file_extension": ".py",
   "mimetype": "text/x-python",
   "name": "python",
   "nbconvert_exporter": "python",
   "pygments_lexer": "ipython2",
   "version": "2.7.6"
  }
 },
 "nbformat": 4,
 "nbformat_minor": 5
}
