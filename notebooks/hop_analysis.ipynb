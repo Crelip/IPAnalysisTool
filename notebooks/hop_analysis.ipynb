{
 "cells": [
  {
   "cell_type": "code",
   "id": "initial_id",
   "metadata": {
    "collapsed": true,
    "ExecuteTime": {
     "end_time": "2025-04-29T18:23:10.126051Z",
     "start_time": "2025-04-29T18:23:10.039356Z"
    }
   },
   "source": [
    "from ip_analysis_tool.util.graph_getter import get_graph_by_date\n",
    "from ip_analysis_tool.util.date_util import get_date_object\n",
    "from ip_analysis_tool.accessibility_within_hops import accessibility_within_hops\n",
    "from json import dump\n",
    "with open(\"scratchpad/accessibility_within_hops_1.json\", \"w\") as out_file:\n",
    "    dump(\n",
    "        accessibility_within_hops(\n",
    "            get_graph_by_date(get_date_object(\"2017-02-06\")),\n",
    "            True\n",
    "        ),\n",
    "        out_file,\n",
    "        indent=2\n",
    "    )"
   ],
   "outputs": [],
   "execution_count": 4
  }
 ],
 "metadata": {
  "kernelspec": {
   "display_name": "Python 3",
   "language": "python",
   "name": "python3"
  },
  "language_info": {
   "codemirror_mode": {
    "name": "ipython",
    "version": 2
   },
   "file_extension": ".py",
   "mimetype": "text/x-python",
   "name": "python",
   "nbconvert_exporter": "python",
   "pygments_lexer": "ipython2",
   "version": "2.7.6"
  }
 },
 "nbformat": 4,
 "nbformat_minor": 5
}
