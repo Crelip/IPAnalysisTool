{
 "cells": [
  {
   "cell_type": "code",
   "id": "initial_id",
   "metadata": {
    "collapsed": true,
    "ExecuteTime": {
     "end_time": "2025-03-18T14:51:48.565024Z",
     "start_time": "2025-03-18T14:51:40.217764Z"
    }
   },
   "source": [
    "from IPAnalysisTool.util.graphGetter import getGraphByDate\n",
    "from IPAnalysisTool.util.graphManipulation import mergeSubgraphs\n",
    "from IPAnalysisTool.kcore import kCoreDecomposition\n",
    "from IPAnalysisTool.hBackbone import h_backbone\n",
    "from IPAnalysisTool.visualize import baseVisualize\n",
    "from IPAnalysisTool.util.weekUtil import getDateObject\n",
    "from graph_tool.all import GraphView\n",
    "\n",
    "g1 = getGraphByDate(getDateObject('2020-01-01'))\n",
    "kCoreGraph = kCoreDecomposition(g1, output=\"graph\")\n",
    "g, kCoreVal, _, k = kCoreGraph\n",
    "vfilt = g.new_vertex_property(\"bool\")\n",
    "for v in g.vertices(): vfilt[v] = kCoreVal[v] == k\n",
    "g = GraphView(g, vfilt=vfilt, directed=False)\n",
    "hBackboneGraph = h_backbone(getDateObject('2020-01-01'), output=\"graph\", modifier=1000000)\n",
    "print(hBackboneGraph.num_vertices())\n",
    "print(g.num_vertices())\n",
    "merged = mergeSubgraphs(g, hBackboneGraph, g1)\n",
    "baseVisualize(merged, \"merged\")\n",
    "baseVisualize(g, \"kcore\")\n",
    "baseVisualize(hBackboneGraph, \"hbackbone\")\n"
   ],
   "outputs": [
    {
     "name": "stdout",
     "output_type": "stream",
     "text": [
      "57\n",
      "21\n",
      "xd\n"
     ]
    }
   ],
   "execution_count": 1
  }
 ],
 "metadata": {
  "kernelspec": {
   "display_name": "Python 3",
   "language": "python",
   "name": "python3"
  },
  "language_info": {
   "codemirror_mode": {
    "name": "ipython",
    "version": 2
   },
   "file_extension": ".py",
   "mimetype": "text/x-python",
   "name": "python",
   "nbconvert_exporter": "python",
   "pygments_lexer": "ipython2",
   "version": "2.7.6"
  }
 },
 "nbformat": 4,
 "nbformat_minor": 5
}
